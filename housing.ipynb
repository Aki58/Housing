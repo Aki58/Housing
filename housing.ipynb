{
 "cells": [
  {
   "cell_type": "code",
   "execution_count": null,
   "metadata": {},
   "outputs": [],
   "source": [
    "import pandas as pd\n",
    "import numpy as np\n",
    "from sklearn import preprocessing\n",
    "\n",
    "#data Preprocessing\n",
    "\n",
    "dataset= pd.read_csv(\"train.csv\", header = 0, delimiter = \",\")\n",
    "dataset_test= pd.read_csv(\"test.csv\", header = 0, delimiter = \",\")\n",
    "\n",
    "#Getting the sum of TotalBsmtSF, 11stFlrSF and 22ndFlrSF values\n",
    "df1 = dataset[['1stFlrSF','2ndFlrSF','TotalBsmtSF']]\n",
    "dataset['Total_usable_area'] = df1.sum(axis=1)\n",
    "df2 = dataset_test[['1stFlrSF','2ndFlrSF','TotalBsmtSF']]\n",
    "dataset_test['Total_usable_area'] = df1.sum(axis=1)\n",
    "\n",
    "#Replace NA values with zeros so it is easy when calculating scores for features on train set\n",
    "dataset['LotFrontage'].fillna(0, inplace=True)\n",
    "dataset['MasVnrArea'].fillna(0, inplace=True)\n",
    "dataset['GarageArea'].fillna(0, inplace=True)\n",
    "#Replace NA values with zeros so it is easy when calculating scores for features on test set\n",
    "dataset_test['LotFrontage'].fillna(0, inplace=True)\n",
    "dataset_test['MasVnrArea'].fillna(0, inplace=True)\n",
    "dataset_test['GarageArea'].fillna(0, inplace=True)\n",
    "\n",
    "#converting categorical data to numerical data so it will be much easier when selecting features\n",
    "dataset['LotShape'] = preprocessing.LabelEncoder().fit_transform(dataset['LotShape'].values)\n",
    "dataset['HouseStyle'] = preprocessing.LabelEncoder().fit_transform(dataset['HouseStyle'].values)\n",
    "dataset['OverallCond'] = preprocessing.LabelEncoder().fit_transform(dataset['OverallCond'].values)\n",
    "dataset['MasVnrType'] = preprocessing.LabelEncoder().fit_transform(dataset['OverallCond'].values)\n",
    "dataset['Foundation'] = preprocessing.LabelEncoder().fit_transform(dataset['Foundation'].values)\n",
    "dataset['SaleCondition'] = preprocessing.LabelEncoder().fit_transform(dataset['SaleCondition'].values)\n",
    "\n",
    "dataset_test['LotShape'] = preprocessing.LabelEncoder().fit_transform(dataset_test['LotShape'].values)\n",
    "dataset_test['HouseStyle'] = preprocessing.LabelEncoder().fit_transform(dataset_test['HouseStyle'].values)\n",
    "dataset_test['OverallCond'] = preprocessing.LabelEncoder().fit_transform(dataset_test['OverallCond'].values)\n",
    "dataset_test['MasVnrType'] = preprocessing.LabelEncoder().fit_transform(dataset_test['OverallCond'].values)\n",
    "dataset_test['Foundation'] = preprocessing.LabelEncoder().fit_transform(dataset_test['Foundation'].values)\n",
    "dataset_test['SaleCondition'] = preprocessing.LabelEncoder().fit_transform(dataset_test['SaleCondition'].values)\n",
    "#removing outliers on both train and test sets\n",
    "ys = dataset['LotFrontage']\n",
    "ys_test = dataset_test['LotFrontage']\n",
    "salesoutliers = dataset['SalePrice']\n",
    "Total_usable_area_outliers = dataset['Total_usable_area']\n",
    "Total_usable_area_outliers_test = dataset_test['Total_usable_area']\n",
    "\n",
    "quartile_1, quartile_3 = np.percentile(ys, [25, 75])\n",
    "iqr = quartile_3 - quartile_1\n",
    "lower_bound = quartile_1 - (iqr * 1.5)\n",
    "upper_bound = quartile_3 + (iqr * 1.5)\n",
    "dataset = dataset.drop(dataset[(dataset.LotFrontage > upper_bound) | (dataset.LotFrontage < lower_bound)].index)\n",
    "\n",
    "\n",
    "\n",
    "quartile_1, quartile_3 = np.percentile(salesoutliers, [25, 75])\n",
    "iqr = quartile_3 - quartile_1\n",
    "lower_bound = quartile_1 - (iqr * 1.5)\n",
    "upper_bound = quartile_3 + (iqr * 1.5)\n",
    "dataset = dataset.drop(dataset[(dataset.SalePrice > upper_bound) | (dataset.SalePrice < lower_bound)].index)\n",
    "\n",
    "quartile_1, quartile_3 = np.percentile(Total_usable_area_outliers, [25, 75])\n",
    "iqr = quartile_3 - quartile_1\n",
    "lower_bound = quartile_1 - (iqr * 1.5)\n",
    "upper_bound = quartile_3 + (iqr * 1.5)\n",
    "dataset = dataset.drop(dataset[(dataset.Total_usable_area > upper_bound) | (dataset.Total_usable_area < lower_bound)].index)"
   ]
  },
  {
   "cell_type": "code",
   "execution_count": null,
   "metadata": {},
   "outputs": [],
   "source": [
    "#Recursive Feature Elimination\n",
    "from sklearn import datasets\n",
    "from sklearn.feature_selection import RFE\n",
    "from sklearn.datasets import load_svmlight_file\n",
    "from array import array\n",
    "from sklearn import linear_model\n",
    "\n",
    "model = linear_model.LinearRegression()\n",
    "# create the RFE model and select 3 attributes\n",
    "rfe = RFE(model, 5)\n",
    "rfe = rfe.fit(dataset[['LotShape','HouseStyle','OverallCond','MasVnrType','Foundation','SaleCondition']], dataset['SalePrice'])\n",
    "# score the selection of the attributes\n",
    "print(rfe.support_)\n",
    "print(rfe.ranking_)"
   ]
  },
  {
   "cell_type": "code",
   "execution_count": null,
   "metadata": {},
   "outputs": [],
   "source": [
    "model = linear_model.LinearRegression()\n",
    "rfe = RFE(model, 5)\n",
    "rfe = rfe.fit(dataset[['LotArea','GrLivArea','MasVnrArea','LotFrontage','Total_usable_area','YearBuilt','GarageArea']], dataset['SalePrice'])\n",
    "# score the selection of the attributes\n",
    "print(rfe.support_)\n",
    "print(rfe.ranking_)"
   ]
  },
  {
   "cell_type": "code",
   "execution_count": null,
   "metadata": {},
   "outputs": [],
   "source": [
    "from xgboost import XGBRegressor\n",
    "regressor = XGBRegressor(n_estimators=1000,learning_rate=0.05)\n",
    "#regressor.fit(dataset[['LotShape', 'OverallCond','MasVnrType', 'Foundation', 'SaleCondition', 'GrLivArea', 'LotFrontage','Total_usable_area','YearBuilt','GarageArea']], dataset['SalePrice'],verbose=False)"
   ]
  },
  {
   "cell_type": "code",
   "execution_count": null,
   "metadata": {},
   "outputs": [],
   "source": [
    "data = dataset[['LotShape','OverallCond','MasVnrType', 'Foundation', 'SaleCondition', 'GrLivArea', 'LotFrontage','Total_usable_area','YearBuilt','GarageArea','SalePrice']]\n",
    "data_converted = np.array(data)\n",
    "data_converted"
   ]
  },
  {
   "cell_type": "code",
   "execution_count": null,
   "metadata": {},
   "outputs": [],
   "source": [
    "from sklearn.model_selection import train_test_split\n",
    "x = data_converted[:,0:10]\n",
    "y = data_converted[:,10:11]\n",
    "x_train, x_test, y_train, y_test = train_test_split(x, y, test_size=0.30, random_state=42)"
   ]
  },
  {
   "cell_type": "code",
   "execution_count": null,
   "metadata": {},
   "outputs": [],
   "source": [
    "regressor.fit(x_train,y_train,early_stopping_rounds=5, \n",
    "             eval_set=[(x_test, y_test)], verbose=False)"
   ]
  },
  {
   "cell_type": "code",
   "execution_count": null,
   "metadata": {},
   "outputs": [],
   "source": [
    "prediction = regressor.predict(x_test)\n",
    "prediction"
   ]
  },
  {
   "cell_type": "code",
   "execution_count": null,
   "metadata": {},
   "outputs": [],
   "source": [
    "from sklearn.metrics import mean_absolute_error\n",
    "error=mean_absolute_error(y_test,prediction)\n",
    "error"
   ]
  },
  {
   "cell_type": "code",
   "execution_count": null,
   "metadata": {},
   "outputs": [],
   "source": [
    "z=(error/y_test.mean())\n",
    "print(100-100*z)"
   ]
  },
  {
   "cell_type": "code",
   "execution_count": null,
   "metadata": {},
   "outputs": [],
   "source": [
    "data_for_the_final_prediction = dataset_test[['LotShape', 'OverallCond','MasVnrType', 'Foundation', 'SaleCondition', 'GrLivArea', 'LotFrontage','Total_usable_area','YearBuilt','GarageArea']]\n",
    "data_converted_final = np.array(data_for_the_final_prediction)\n",
    "data_converted_final\n",
    "data_for_the_final_prediction"
   ]
  },
  {
   "cell_type": "code",
   "execution_count": null,
   "metadata": {},
   "outputs": [],
   "source": [
    "x_data = data_converted_final[:,0:10]\n",
    "final_prediction = regressor.predict(x_data)\n",
    "final_prediction\n",
    "submission = pd.DataFrame()\n",
    "submission\n"
   ]
  },
  {
   "cell_type": "code",
   "execution_count": null,
   "metadata": {},
   "outputs": [],
   "source": [
    "submission['Id'] = dataset_test.Id\n",
    "submission['SalePrice'] = final_prediction\n",
    "submission\n"
   ]
  },
  {
   "cell_type": "code",
   "execution_count": null,
   "metadata": {},
   "outputs": [],
   "source": [
    "submission.to_csv('submission.csv',sep=',', encoding='utf-8')\n"
   ]
  },
  {
   "cell_type": "code",
   "execution_count": null,
   "metadata": {},
   "outputs": [],
   "source": []
  },
  {
   "cell_type": "code",
   "execution_count": null,
   "metadata": {},
   "outputs": [],
   "source": []
  },
  {
   "cell_type": "code",
   "execution_count": null,
   "metadata": {},
   "outputs": [],
   "source": []
  }
 ],
 "metadata": {
  "kernelspec": {
   "display_name": "Python 3",
   "language": "python",
   "name": "python3"
  },
  "language_info": {
   "codemirror_mode": {
    "name": "ipython",
    "version": 3
   },
   "file_extension": ".py",
   "mimetype": "text/x-python",
   "name": "python",
   "nbconvert_exporter": "python",
   "pygments_lexer": "ipython3",
   "version": "3.6.4"
  }
 },
 "nbformat": 4,
 "nbformat_minor": 2
}
